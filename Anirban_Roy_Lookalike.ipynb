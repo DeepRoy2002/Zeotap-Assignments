{
 "cells": [
  {
   "cell_type": "code",
   "execution_count": 20,
   "id": "012052a0",
   "metadata": {},
   "outputs": [],
   "source": [
    "import pandas as pd\n",
    "from sklearn.metrics.pairwise import cosine_similarity\n",
    "from sklearn.preprocessing import StandardScaler\n",
    "\n",
    "\n",
    "customers = pd.read_csv('Customers.csv')\n",
    "transactions = pd.read_csv('Transactions.csv')\n",
    "products = pd.read_csv('Products.csv')\n"
   ]
  },
  {
   "cell_type": "code",
   "execution_count": 10,
   "id": "d55dd795",
   "metadata": {},
   "outputs": [],
   "source": [
    "data = transactions.merge(customers, on='CustomerID', how='left')\n",
    "data = data.merge(products, on='ProductID', how='left')"
   ]
  },
  {
   "cell_type": "code",
   "execution_count": 23,
   "id": "e4f241a2",
   "metadata": {},
   "outputs": [],
   "source": [
    "data = transactions.merge(customers, on='CustomerID', how='left')\n",
    "data = data.merge(products, on='ProductID', how='left')\n",
    "\n",
    "\n",
    "customer_features = data.groupby('CustomerID').agg(\n",
    "    total_spend=('TotalValue', 'sum'),\n",
    "    transaction_count=('TransactionID', 'count'),\n",
    "    avg_transaction_value=('TotalValue', 'mean'),\n",
    "    favorite_category=('Category', lambda x: x.mode()[0]),\n",
    "    region=('Region', 'first')\n",
    ").reset_index()"
   ]
  },
  {
   "cell_type": "code",
   "execution_count": 24,
   "id": "380c7bec",
   "metadata": {},
   "outputs": [],
   "source": [
    "customer_features = pd.get_dummies(customer_features, columns=['favorite_category', 'region'], prefix=['category', 'region'])\n",
    "\n",
    "scaler = StandardScaler()\n",
    "scaled_features = scaler.fit_transform(customer_features.iloc[:, 1:])  "
   ]
  },
  {
   "cell_type": "code",
   "execution_count": 25,
   "id": "84c30742",
   "metadata": {},
   "outputs": [],
   "source": [
    "similarity_matrix = cosine_similarity(scaled_features)\n",
    "similarity_df = pd.DataFrame(similarity_matrix, index=customer_features['CustomerID'], columns=customer_features['CustomerID'])\n",
    "\n",
    "lookalikes = {}\n",
    "for customer in similarity_df.index:\n",
    "    similar_customers = similarity_df.loc[customer].drop(customer).nlargest(3)\n",
    "    lookalikes[customer] = list(zip(similar_customers.index, similar_customers.values))"
   ]
  },
  {
   "cell_type": "code",
   "execution_count": null,
   "id": "c5e26520",
   "metadata": {},
   "outputs": [],
   "source": []
  },
  {
   "cell_type": "code",
   "execution_count": 26,
   "id": "66dc75f1",
   "metadata": {},
   "outputs": [
    {
     "name": "stdout",
     "output_type": "stream",
     "text": [
      "Lookalike results saved to Lookalike.csv\n"
     ]
    }
   ],
   "source": [
    "lookalike_results = []\n",
    "for customer, similar_list in lookalikes.items():\n",
    "    for similar_customer, score in similar_list:\n",
    "        lookalike_results.append({\n",
    "            'CustomerID': customer,\n",
    "            'LookalikeID': similar_customer,\n",
    "            'SimilarityScore': score\n",
    "        })\n",
    "\n",
    "lookalike_df = pd.DataFrame(lookalike_results)\n",
    "lookalike_df.to_csv('Lookalike.csv', index=False)\n",
    "print(\"Lookalike results saved to Lookalike.csv\")\n"
   ]
  },
  {
   "cell_type": "code",
   "execution_count": 27,
   "id": "530ca6c6",
   "metadata": {},
   "outputs": [],
   "source": [
    "similar_pairs = []\n",
    "for customer, similar_list in lookalikes.items():\n",
    "    for similar_customer, score in similar_list:\n",
    "        details_1 = customer_features[customer_features['CustomerID'] == customer]\n",
    "        details_2 = customer_features[customer_features['CustomerID'] == similar_customer]\n",
    "        pair_details = {\n",
    "            'CustomerID_1': customer,\n",
    "            'CustomerID_2': similar_customer,\n",
    "            'SimilarityScore': score,\n",
    "            'Details_1': details_1.iloc[0].to_dict(),\n",
    "            'Details_2': details_2.iloc[0].to_dict()\n",
    "        }\n",
    "        similar_pairs.append(pair_details)"
   ]
  },
  {
   "cell_type": "code",
   "execution_count": 30,
   "id": "dcfa76c4",
   "metadata": {},
   "outputs": [
    {
     "name": "stdout",
     "output_type": "stream",
     "text": [
      "Enter CustomerID to find lookalikes: C0019\n",
      "Top 3 Lookalikes for Customer C0019:\n",
      "1. CustomerID: C0121, Similarity Score: 0.939\n",
      "2. CustomerID: C0081, Similarity Score: 0.920\n",
      "3. CustomerID: C0132, Similarity Score: 0.831\n"
     ]
    }
   ],
   "source": [
    "customer_id_input = input(\"Enter CustomerID to find lookalikes: \")\n",
    "if customer_id_input not in similarity_df.index:\n",
    "    print(\"CustomerID not found in the dataset!\")\n",
    "else:\n",
    "    similar_customers = similarity_df.loc[customer_id_input].drop(customer_id_input).nlargest(3)\n",
    "    print(f\"Top 3 Lookalikes for Customer {customer_id_input}:\")\n",
    "    for idx, (cust_id, score) in enumerate(similar_customers.items(), start=1):\n",
    "        print(f\"{idx}. CustomerID: {cust_id}, Similarity Score: {score:.3f}\")\n"
   ]
  },
  {
   "cell_type": "code",
   "execution_count": null,
   "id": "12a1a306",
   "metadata": {},
   "outputs": [],
   "source": []
  }
 ],
 "metadata": {
  "kernelspec": {
   "display_name": "Python 3 (ipykernel)",
   "language": "python",
   "name": "python3"
  },
  "language_info": {
   "codemirror_mode": {
    "name": "ipython",
    "version": 3
   },
   "file_extension": ".py",
   "mimetype": "text/x-python",
   "name": "python",
   "nbconvert_exporter": "python",
   "pygments_lexer": "ipython3",
   "version": "3.9.12"
  }
 },
 "nbformat": 4,
 "nbformat_minor": 5
}
